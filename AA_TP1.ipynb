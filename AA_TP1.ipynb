{
  "nbformat": 4,
  "nbformat_minor": 0,
  "metadata": {
    "colab": {
      "name": "AA - TP1",
      "provenance": [],
      "toc_visible": true,
      "authorship_tag": "ABX9TyOryf8q/MA7pfuomNL0CBjN",
      "include_colab_link": true
    },
    "kernelspec": {
      "name": "python3",
      "display_name": "Python 3"
    }
  },
  "cells": [
    {
      "cell_type": "markdown",
      "metadata": {
        "id": "view-in-github",
        "colab_type": "text"
      },
      "source": [
        "<a href=\"https://colab.research.google.com/github/rodrieja/DM-AA-TP1-2020/blob/master/AA_TP1.ipynb\" target=\"_parent\"><img src=\"https://colab.research.google.com/assets/colab-badge.svg\" alt=\"Open In Colab\"/></a>"
      ]
    },
    {
      "cell_type": "markdown",
      "metadata": {
        "id": "SVUKrLNHGRHm",
        "colab_type": "text"
      },
      "source": [
        "##Universidad de Buenos Aires\n",
        "##Facultad de Ciencias Exactas y Naturales\n",
        "##Facultad de Ingeniería\n",
        "##Maestría en Explotación de Datos y Descubrimiento de Conocimiento\n",
        "##Aprendizaje Automático\n",
        "####1er cuatrimestre de 2020\n",
        "###Trabajo práctico Nro 1\n",
        "\n"
      ]
    },
    {
      "cell_type": "markdown",
      "metadata": {
        "id": "heBxYAqsJv-h",
        "colab_type": "text"
      },
      "source": [
        ""
      ]
    }
  ]
}