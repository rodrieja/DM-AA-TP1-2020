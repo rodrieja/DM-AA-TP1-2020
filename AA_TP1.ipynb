{
  "nbformat": 4,
  "nbformat_minor": 0,
  "metadata": {
    "colab": {
      "name": "AA - TP1",
      "provenance": [],
      "toc_visible": true,
      "authorship_tag": "ABX9TyOOsCmoCjEAfS9g/0mY55qv",
      "include_colab_link": true
    },
    "kernelspec": {
      "name": "python3",
      "display_name": "Python 3"
    }
  },
  "cells": [
    {
      "cell_type": "markdown",
      "metadata": {
        "id": "view-in-github",
        "colab_type": "text"
      },
      "source": [
        "<a href=\"https://colab.research.google.com/github/rodrieja/DM-AA-TP1-2020/blob/master/AA_TP1.ipynb\" target=\"_parent\"><img src=\"https://colab.research.google.com/assets/colab-badge.svg\" alt=\"Open In Colab\"/></a>"
      ]
    },
    {
      "cell_type": "markdown",
      "metadata": {
        "id": "SVUKrLNHGRHm",
        "colab_type": "text"
      },
      "source": [
        "##Universidad de Buenos Aires\n",
        "##Facultad de Ciencias Exactas y Naturales\n",
        "##Facultad de Ingeniería\n",
        "##Maestría en Explotación de Datos y Descubrimiento de Conocimiento\n",
        "##Aprendizaje Automático\n",
        "####1er cuatrimestre de 2020\n",
        "###Trabajo práctico Nro 1\n",
        "\n"
      ]
    },
    {
      "cell_type": "markdown",
      "metadata": {
        "id": "heBxYAqsJv-h",
        "colab_type": "text"
      },
      "source": [
        "El objetivo de este trabajo práctico es analizar las particularidades de la utilización de algoritmos para la generación de árboles de decisión por medio de su aplicación en casos casi reales. El mismo pretende fijar conceptos estudiados en la teoría: sobreajuste y poda; tratamiento de datos faltantes; tolerancia al ruido; discretización de atributos numéricos. El material básico para la elaboración del presente trabajo se encuentra en las teóricas y prácticas presentadas hasta el momento y en las próximas clases y en la bibliografía indicada (por ej. libro de Mitchell). Podrá utilizarse cualquier otra fuente siempre que esté correctamente referenciada. <br>\n",
        "El presente trabajo será grupal. El grupo deberá estar compuesto por exactamente tres integrantes. Preferentemente uno de ellos debe saber programar. Se podrán evaluar contenidos del Trabajo Práctico durante el parcial posterior a la entrega del TP. Todos los integrantes deben tener conocimiento del desarrollo del TP. <br>\n",
        "**La fecha límite de entrega es el 15 de junio a las 23:59 hs.**<br>\n",
        "Para el desarrollo del trabajo se utilizará un conjunto de datos que proveerá la cátedra ***(hotel_bookings.csv)*** con el objetivo de predecir quién va a cancelar una reserva de hoteles. Para resolver este problema se utilizarán árboles de decisión. <br>\n",
        "Se deberá elaborar un informe preferentemente en LaTeX y entregarlo en formato .pdf. La entrega deberá estar acompañada de la Jupyter Notebook en Python utilizada para generar los resultados. El documento a entregar debe cumplir con los siguientes requisitos: <br>\n",
        "\n",
        "*   debe tener no más que cuatro hojas, con fuente tamaño 10 e interlineado simple. La bibliografía no cuenta en la cantidad de hojas.\n",
        "*   Elemento de la lista\n",
        "*   una carátula en donde figuren universidad, nombre de maestría, materia, número de grupo, nombres de los integrantes del grupo, número de TP, año de cursada, etc. La carátula no cuenta en la cantidad de hojas. \n",
        "*   un resumen (del estilo de un artículo científico de no más de 200 palabras)\n",
        "*   una introducción en donde, entre otros, conste el objetivo del trabajo y una explicación de cómo está organizado el resto del documento.\n",
        "*   una sección de datos, en donde se describan los datos utilizados y sus particularidades\n",
        "*   una sección de metodología, en donde se describan las metodologías utilizadas (sobre datos y sobre algoritmos)\n",
        "*   una sección resultados, que incluya los resultados y su análisis\n",
        "*   una sección de conclusiones. Por tratarse de un trabajo de investigación netamente práctico, las conclusiones deben ser la resultante de la elaboración de las pruebas realizadas. La información obtenida de referencias externas puede y debe ser tomada como insumo, pero no como conclusión.\n",
        "*   referencias bibliográficas (referenciadas a lo largo del trabajo)\n",
        "\n"
      ]
    },
    {
      "cell_type": "markdown",
      "metadata": {
        "id": "BMoF-vMYL3jB",
        "colab_type": "text"
      },
      "source": [
        "El informe se deberá publicar en el aula virtual de la materia por uno sólo de los integrantes del grupo.<br>\n",
        "Para realizar el informe se deberán considerarse y documentarse los siguientes puntos:<br>\n",
        ">a) A partir de los datos entregados, describir los atributos realizando una breve explicación de qué representan y del tipo de variable (categórica, numérica u ordinal). En caso de que haya variables no numéricas, reportar los posibles valores que toman y cuán frecuentemente lo hacen.\n",
        "\n",
        ">b) Reportar si hay valores faltantes. ¿Cuántos son y en qué atributos se encuentran? En caso de haberlos, ¿es necesario y posible asignarles un valor?\n",
        "\n",
        ">c) ¿Qué variables se correlacionan más con la cancelación de la reserva? Para las cuatro más correlacionadas, mostrar un scatter plot en el que el eje x corresponda a la variable correlacionada, y el eje y a la cancelación.\n",
        "\n",
        ">d) El dueño de un hotel les solicita que predigan con cierta antelación si un cliente cancelará su reserva. ¿Qué atributos utilizará como variables predictoras? ¿Por qué?\n",
        "\n",
        ">e) ¿Se encuentra balanceado el conjunto de datos que utilizará para desarrollar el algoritmo diseñado para contestar el punto d)? En base a lo respondido, ¿qué métricas de performance reportaría y por qué? \n",
        "\n",
        ">f) Suponiendo que al dueño del hotel le importa detectar todas las cancelaciones. ¿Qué medida de performance utilizaría? Si utiliza Fβ-Score, ¿qué valor de β eligiría?\n",
        "\n",
        ">g) Implementar el algoritmo introducido en el punto d) utilizando árboles de decisión. En primer lugar, se deberá separar un 20% de los datos para usarlos como conjunto de evaluación (test set). El conjunto restante (80%) es el de desarrollo y es con el que se deberá continuar haciendo el trabajo. Realizar los siguientes puntos:\n",
        "\n",
        "1.   Armar conjuntos de entrenamiento y validación con proporción 80-20 del conjunto de desarrollo de forma aleatoria. Usar 50 semillas distintas y realizar un gráfico de caja y bigotes que muestre cómo varía la métrica elegida en c) en esas 50 particiones distintas.\n",
        "2.   Usar validación cruzada de 50 iteraciones (50-fold cross validation). Realizar un gráfico de caja y bigotes que muestre cómo varía la métrica elegida en esas 50 particiones distintas.\n",
        "\n",
        "> h) Graficar el árbol de decisión con mejor performance encontrado en el punto g2). Analizar el árbol de decisión armado (atributos elegidos y decisiones evaluadas).\n",
        "\n",
        "> i) Usando validación cruzada de 10 iteraciones (10-fold cross validation), probar distintos valores de $\\alpha$ del algoritmo de poda mínima de complejidad de costos (algoritmo de poda de sklearn). Hacer gráficos de la performance en validación y entrenamiento en función del $\\alpha$. Explicar cómo varía la profundidad de los árboles al realizar la poda con distintos valores de $\\alpha$.\n",
        "\n",
        "> j) Evaluar en el conjunto de evaluación, el árbol correspondiente al α que maximice la performance en el conjunto de validación. Comparar con el caso sin poda ($\\alpha=0$)\n",
        "\n",
        "> k) Para el árbol sin poda, obtener la importancia de los descriptores usando la técnica de eliminación recursiva. Reentrenar el árbol usando sólo los 3 descriptores más importantes. Comparar la performance en el conjunto de prueba.\n",
        "\n",
        "Atención: los puntos anteriores no necesariamente deben ser respondidos en el mismo orden en el que son formulados. El único requisito es que sus respuestas estén en alguna parte del informe entregado.\n",
        "\n"
      ]
    },
    {
      "cell_type": "markdown",
      "metadata": {
        "id": "6jOrLi7ANmSi",
        "colab_type": "text"
      },
      "source": [
        ""
      ]
    }
  ]
}